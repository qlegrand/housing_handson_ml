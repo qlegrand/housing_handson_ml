{
 "cells": [
  {
   "cell_type": "code",
   "execution_count": 1,
   "metadata": {},
   "outputs": [],
   "source": [
    "import tensorflow as tf\n",
    "import functools as ft\n",
    "from tensorflow.examples.tutorials.mnist import input_data\n",
    "import numpy as np\n",
    "from datetime import datetime as dt"
   ]
  },
  {
   "cell_type": "code",
   "execution_count": 46,
   "metadata": {},
   "outputs": [],
   "source": [
    "n_inputs = 28 * 28\n",
    "n_hidden1 = 300\n",
    "n_hidden2 = 100\n",
    "n_output = 10\n",
    "\n",
    "learning_rate = 0.01\n",
    "lambda_ = 0.\n",
    "n_epochs = 25\n",
    "batch_size = 100\n",
    "tf.reset_default_graph()\n",
    "\n",
    "now = dt.utcnow().strftime(\"%Y%m%d%H%M%S\")\n",
    "root_logdir = \"./CH10_logs\"\n",
    "logdir = \"{}/run-{}/\".format(root_logdir, now)"
   ]
  },
  {
   "cell_type": "code",
   "execution_count": 47,
   "metadata": {},
   "outputs": [],
   "source": [
    "X = tf.placeholder(tf.float32, shape = (None, n_inputs), name = \"X\")\n",
    "y = tf.placeholder(tf.int64, shape = (None), name = \"y\")\n",
    "is_training = tf.placeholder(tf.bool, shape = (), name = \"is_training\")"
   ]
  },
  {
   "cell_type": "code",
   "execution_count": 48,
   "metadata": {},
   "outputs": [],
   "source": [
    "def neuron_layer(X, n_neurons, name, activation = None, weights_regularizer = None):\n",
    "    with tf.name_scope(name):\n",
    "        n_inputs = int(X.get_shape()[1])\n",
    "        stddev = 2 / np.sqrt(n_inputs)\n",
    "        init = tf.truncated_normal((n_inputs, n_neurons), stddev = stddev)\n",
    "        W = tf.get_variable(\"{}_weights\".format(name), initializer = init, regularizer = weights_regularizer)\n",
    "        b = tf.Variable(tf.zeros([n_neurons]), name = \"biasses\")\n",
    "        z = tf.matmul(X, W) + b\n",
    "        if activation == \"relu\":\n",
    "            return tf.nn.relu(z)\n",
    "        elif activation == \"elu\":\n",
    "            return tf.nn.elu(z)\n",
    "        else:\n",
    "            return z\n",
    "\n",
    "def max_norm_regularizer(threshold, axes = 1, name = \"max_norm\", collection = \"max_norm\"):\n",
    "    def max_norm(weights):\n",
    "        clipped = tf.clip_by_norm(weights, clip_norm = threshold, axes = axes)\n",
    "        clip_weights = tf.assign(weights, clipped, name = name)\n",
    "        tf.add_to_collection(collection, clip_weights)\n",
    "        return None\n",
    "    return max_norm"
   ]
  },
  {
   "cell_type": "code",
   "execution_count": 49,
   "metadata": {},
   "outputs": [],
   "source": [
    "my_dense_layer = ft.partial(neuron_layer, weights_regularizer = max_norm_regularizer(threshold = 1.0))\n",
    "\n",
    "#my_dense_layer = ft.partial(neuron_layer, weights_regularizer = tf.contrib.layers.l2_regularizer(scale = lambda_))\n",
    "\n",
    "with tf.name_scope(\"dnn\"): \n",
    "    #normal1 = tf.layers.batch_normalization(X,training = is_training)\n",
    "    #hidden1 = my_dense_layer(normal1, n_neurons = n_hidden1, name = \"hidden1\", activation = \"elu\")\n",
    "    #normal2 = tf.layers.batch_normalization(hidden1, training = is_training)\n",
    "    #hidden2 = my_dense_layer(normal2, n_neurons = n_hidden2, name = \"hidden2\", activation = \"elu\")\n",
    "    #normal3 = tf.layers.batch_normalization(hidden2, training = is_training)\n",
    "    #logits = my_dense_layer(normal3, n_neurons = n_output, name = \"outputs\")\n",
    "    hidden1 = my_dense_layer(X, n_neurons = n_hidden1, name = \"hidden1\", activation = \"elu\")\n",
    "    hidden2 = my_dense_layer(hidden1, n_neurons = n_hidden2, name = \"hidden2\", activation = \"elu\")\n",
    "    logits = my_dense_layer(hidden2, n_neurons = n_output, name = \"outputs\")\n",
    "\n",
    "with tf.name_scope(\"base_loss\"):\n",
    "    xentropy = tf.nn.sparse_softmax_cross_entropy_with_logits(labels = y, logits = logits)\n",
    "    base_loss = tf.reduce_mean(xentropy, name = \"base_loss\")\n",
    "'''    \n",
    "with tf.name_scope(\"regularization\"):\n",
    "    reg_loss = tf.get_collection(tf.GraphKeys.REGULARIZATION_LOSSES)\n",
    "'''\n",
    "with tf.name_scope(\"loss\"):\n",
    "    #loss = tf.add_n([base_loss] + reg_loss)\n",
    "    loss = base_loss\n",
    "\n",
    "with tf.name_scope(\"train\"):\n",
    "    optimizer = tf.train.AdamOptimizer(learning_rate = learning_rate)\n",
    "    training_op = optimizer.minimize(loss)\n",
    "\n",
    "with tf.name_scope(\"eval\"):\n",
    "    correct = tf.nn.in_top_k(logits, y, 1)\n",
    "    accuracy = tf.reduce_mean(tf.cast(correct, tf.float32))\n",
    "\n",
    "clip_all_weights = tf.get_collection(\"max_norm\")\n",
    "init = tf.global_variables_initializer()\n",
    "saver = tf.train.Saver()\n",
    "\n",
    "acc_train_summary = tf.summary.scalar('Train_accuracy', accuracy)\n",
    "acc_test_summary = tf.summary.scalar('Test_accuracy', accuracy)\n",
    "file_writer = tf.summary.FileWriter(logdir, tf.get_default_graph())"
   ]
  },
  {
   "cell_type": "code",
   "execution_count": 6,
   "metadata": {},
   "outputs": [
    {
     "name": "stdout",
     "output_type": "stream",
     "text": [
      "WARNING:tensorflow:From <ipython-input-6-80aa5e208d67>:1: read_data_sets (from tensorflow.contrib.learn.python.learn.datasets.mnist) is deprecated and will be removed in a future version.\n",
      "Instructions for updating:\n",
      "Please use alternatives such as official/mnist/dataset.py from tensorflow/models.\n",
      "WARNING:tensorflow:From c:\\users\\quentin\\appdata\\local\\programs\\python\\python36\\lib\\site-packages\\tensorflow\\contrib\\learn\\python\\learn\\datasets\\mnist.py:260: maybe_download (from tensorflow.contrib.learn.python.learn.datasets.base) is deprecated and will be removed in a future version.\n",
      "Instructions for updating:\n",
      "Please write your own downloading logic.\n",
      "WARNING:tensorflow:From c:\\users\\quentin\\appdata\\local\\programs\\python\\python36\\lib\\site-packages\\tensorflow\\contrib\\learn\\python\\learn\\datasets\\mnist.py:262: extract_images (from tensorflow.contrib.learn.python.learn.datasets.mnist) is deprecated and will be removed in a future version.\n",
      "Instructions for updating:\n",
      "Please use tf.data to implement this functionality.\n",
      "Extracting /tmp/data/train-images-idx3-ubyte.gz\n",
      "WARNING:tensorflow:From c:\\users\\quentin\\appdata\\local\\programs\\python\\python36\\lib\\site-packages\\tensorflow\\contrib\\learn\\python\\learn\\datasets\\mnist.py:267: extract_labels (from tensorflow.contrib.learn.python.learn.datasets.mnist) is deprecated and will be removed in a future version.\n",
      "Instructions for updating:\n",
      "Please use tf.data to implement this functionality.\n",
      "Extracting /tmp/data/train-labels-idx1-ubyte.gz\n",
      "Extracting /tmp/data/t10k-images-idx3-ubyte.gz\n",
      "Extracting /tmp/data/t10k-labels-idx1-ubyte.gz\n",
      "WARNING:tensorflow:From c:\\users\\quentin\\appdata\\local\\programs\\python\\python36\\lib\\site-packages\\tensorflow\\contrib\\learn\\python\\learn\\datasets\\mnist.py:290: DataSet.__init__ (from tensorflow.contrib.learn.python.learn.datasets.mnist) is deprecated and will be removed in a future version.\n",
      "Instructions for updating:\n",
      "Please use alternatives such as official/mnist/dataset.py from tensorflow/models.\n"
     ]
    }
   ],
   "source": [
    "mnist = input_data.read_data_sets(\"/tmp/data/\")"
   ]
  },
  {
   "cell_type": "code",
   "execution_count": 50,
   "metadata": {},
   "outputs": [],
   "source": [
    "with tf.Session()as sess:\n",
    "    init.run()\n",
    "    for epoch in range(n_epochs):\n",
    "        for iteration in range(mnist.train.num_examples // batch_size):\n",
    "            X_batch, y_batch = mnist.train.next_batch(batch_size)\n",
    "            sess.run(training_op, feed_dict = {X: X_batch, y: y_batch, is_training: True})\n",
    "            sess.run(clip_all_weights)\n",
    "            if iteration % 10 == 0 :\n",
    "                acc_train_str = acc_train_summary.eval(feed_dict = {X : X_batch, y : y_batch, is_training: False})\n",
    "                acc_test_str = acc_test_summary.eval(feed_dict = {X : mnist.test.images, y : mnist.test.labels, is_training: False})\n",
    "                step = epoch * (mnist.train.num_examples // batch_size) + iteration\n",
    "                file_writer.add_summary(acc_train_str, step)\n",
    "                file_writer.add_summary(acc_test_str, step)\n",
    "        #acc_train = accuracy.eval(feed_dict = {X: X_batch, y : y_batch, is_training: False})\n",
    "        #acc_test = accuracy.eval(feed_dict = {X: mnist.test.images, y : mnist.test.labels, is_training: False})\n",
    "        #print(epoch, \" Train accuracy \", acc_train, \" Test_accuracy \", acc_test)\n",
    "    save_path = saver.save(sess,\"./CH10/my_model_final.ckpt\")\n",
    "file_writer.close()"
   ]
  },
  {
   "cell_type": "code",
   "execution_count": null,
   "metadata": {},
   "outputs": [],
   "source": []
  }
 ],
 "metadata": {
  "kernelspec": {
   "display_name": "Python 3",
   "language": "python",
   "name": "python3"
  },
  "language_info": {
   "codemirror_mode": {
    "name": "ipython",
    "version": 3
   },
   "file_extension": ".py",
   "mimetype": "text/x-python",
   "name": "python",
   "nbconvert_exporter": "python",
   "pygments_lexer": "ipython3",
   "version": "3.6.6"
  }
 },
 "nbformat": 4,
 "nbformat_minor": 2
}
