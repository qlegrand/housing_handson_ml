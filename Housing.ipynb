{
 "cells": [
  {
   "cell_type": "code",
   "execution_count": 3,
   "metadata": {},
   "outputs": [],
   "source": [
    "import os\n",
    "import tarfile\n",
    "from six.moves import urllib\n",
    "import pandas as pd"
   ]
  },
  {
   "cell_type": "code",
   "execution_count": 4,
   "metadata": {},
   "outputs": [],
   "source": [
    "DOWNLOAD_PATH = \"./datasets/housing/\"\n",
    "DOWNLOAD_FILE = \"housing.tgz\"\n",
    "HOUSING_PATH = DOWNLOAD_PATH + DOWNLOAD_FILE\n",
    "\n",
    "def fetch_housing_data(housing_file = HOUSING_PATH,housing_directory = DOWNLOAD_PATH):\n",
    "    if not os.path.isdir(housing_directory):\n",
    "        os.makedirs(housing_directory)\n",
    "    tgz_path = os.path.join(housing_directory,\"housing.tgz\")\n",
    "    housing_tgz = tarfile.open(tgz_path)\n",
    "    housing_tgz.extractall(path = housing_directory)\n",
    "    housing_tgz.close()\n",
    "fetch_housing_data()"
   ]
  },
  {
   "cell_type": "code",
   "execution_count": null,
   "metadata": {},
   "outputs": [],
   "source": []
  }
 ],
 "metadata": {
  "kernelspec": {
   "display_name": "Python 3",
   "language": "python",
   "name": "python3"
  },
  "language_info": {
   "codemirror_mode": {
    "name": "ipython",
    "version": 3
   },
   "file_extension": ".py",
   "mimetype": "text/x-python",
   "name": "python",
   "nbconvert_exporter": "python",
   "pygments_lexer": "ipython3",
   "version": "3.6.6"
  }
 },
 "nbformat": 4,
 "nbformat_minor": 2
}
