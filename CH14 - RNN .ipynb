{
 "cells": [
  {
   "cell_type": "code",
   "execution_count": 1,
   "metadata": {},
   "outputs": [],
   "source": [
    "import tensorflow as tf\n",
    "import numpy as np\n",
    "from datetime import datetime as dt\n",
    "%matplotlib inline\n",
    "import matplotlib\n",
    "import matplotlib.pyplot as plt\n",
    "plt.rcParams['axes.labelsize'] = 14\n",
    "plt.rcParams['xtick.labelsize'] = 12\n",
    "plt.rcParams['ytick.labelsize'] = 12\n",
    "\n",
    "def reset_graph(seed=42):\n",
    "    tf.reset_default_graph()\n",
    "    tf.set_random_seed(seed)\n",
    "    np.random.seed(seed)\n",
    "    \n",
    "def neuron_layer(X, n_neurons, name, activation = None, weights_regularizer = None):\n",
    "    with tf.name_scope(name):\n",
    "        n_inputs = int(X.get_shape()[1])\n",
    "        stddev = 2 / np.sqrt(n_inputs)\n",
    "        init = tf.truncated_normal((n_inputs, n_neurons), stddev = stddev)\n",
    "        W = tf.get_variable(\"{}_weights\".format(name), initializer = init, regularizer = weights_regularizer)\n",
    "        b = tf.Variable(tf.zeros([n_neurons]), name = \"biasses\")\n",
    "        z = tf.matmul(X, W) + b\n",
    "        if activation == \"relu\":\n",
    "            return tf.nn.relu(z)\n",
    "        elif activation == \"elu\":\n",
    "            return tf.nn.elu(z)\n",
    "        else:\n",
    "            return z"
   ]
  },
  {
   "cell_type": "code",
   "execution_count": 15,
   "metadata": {},
   "outputs": [
    {
     "name": "stdout",
     "output_type": "stream",
     "text": [
      "[[-0.0664006   0.9625767   0.68105793  0.7091854  -0.898216  ]\n",
      " [ 0.9977755  -0.719789   -0.9965761   0.9673924  -0.9998972 ]\n",
      " [ 0.99999774 -0.99898803 -0.9999989   0.9967762  -0.9999999 ]\n",
      " [ 1.         -1.         -1.         -0.99818915  0.9995087 ]]\n",
      "[[ 1.         -1.         -1.          0.4020025  -0.9999998 ]\n",
      " [-0.12210419  0.62805265  0.9671843  -0.9937122  -0.2583937 ]\n",
      " [ 0.9999983  -0.9999994  -0.9999975  -0.85943305 -0.9999881 ]\n",
      " [ 0.99928284 -0.99999815 -0.9999058   0.9857963  -0.92205757]]\n"
     ]
    }
   ],
   "source": [
    "reset_graph()\n",
    "\n",
    "n_inputs = 3\n",
    "n_neurons = 5\n",
    "\n",
    "X0 = tf.placeholder(tf.float32, [None, n_inputs])\n",
    "X1 = tf.placeholder(tf.float32, [None, n_inputs])\n",
    "\n",
    "Wx = tf.Variable(tf.random_normal(shape = [n_inputs, n_neurons], dtype = tf.float32))\n",
    "Wy = tf.Variable(tf.random_normal(shape = [n_neurons, n_neurons], dtype = tf.float32))\n",
    "b = tf.Variable(tf.zeros([1, n_neurons], dtype = tf.float32))\n",
    "\n",
    "Y0 = tf.tanh(tf.add(tf.matmul(X0, Wx), b))\n",
    "Y1 = tf.tanh(tf.add(tf.add(tf.matmul(X1, Wx), tf.matmul(Y0, Wy)), b))\n",
    "\n",
    "init= tf.global_variables_initializer()\n",
    "\n",
    "X0_batch = np.array([[0,1,2],[3,4,5],[6,7,8],[9,0,1]])\n",
    "X1_batch = np.array([[9,8,7],[0,0,0],[6,5,4],[3,2,1]])\n",
    "\n",
    "with tf.Session() as sess:\n",
    "    init.run()\n",
    "    Y0_val, Y1_val = sess.run([Y0, Y1], feed_dict = {X0 : X0_batch, X1 : X1_batch})\n",
    "    \n",
    "print(Y0_val)\n",
    "print(Y1_val)"
   ]
  },
  {
   "cell_type": "code",
   "execution_count": 17,
   "metadata": {},
   "outputs": [
    {
     "name": "stdout",
     "output_type": "stream",
     "text": [
      "[[ 0.30741334 -0.32884315 -0.6542847  -0.9385059   0.52089024]\n",
      " [ 0.99122757 -0.9542541  -0.7518079  -0.9995208   0.9820235 ]\n",
      " [ 0.9999268  -0.99783254 -0.8247353  -0.9999963   0.99947774]\n",
      " [ 0.996771   -0.68750614  0.8419969   0.9303911   0.8120684 ]]\n",
      "[[ 0.99998885 -0.99976057 -0.0667929  -0.9999803   0.99982214]\n",
      " [-0.6524943  -0.51520866 -0.37968948 -0.5922594  -0.08968379]\n",
      " [ 0.99862397 -0.99715203 -0.03308626 -0.9991566   0.9932902 ]\n",
      " [ 0.99681675 -0.9598194   0.39660627 -0.8307606   0.79671973]]\n"
     ]
    }
   ],
   "source": [
    "reset_graph()\n",
    "\n",
    "n_inputs = 3\n",
    "n_neurons = 5\n",
    "\n",
    "X0 = tf.placeholder(tf.float32, [None, n_inputs])\n",
    "X1 = tf.placeholder(tf.float32, [None, n_inputs])\n",
    "\n",
    "basic_cell = tf.contrib.rnn.BasicRNNCell(num_units=n_neurons)\n",
    "output_seqs, states = tf.contrib.rnn.static_rnn(basic_cell, [X0, X1], dtype=tf.float32)\n",
    "\n",
    "Y0, Y1 = output_seqs\n",
    "\n",
    "init= tf.global_variables_initializer()\n",
    "\n",
    "X0_batch = np.array([[0,1,2],[3,4,5],[6,7,8],[9,0,1]])\n",
    "X1_batch = np.array([[9,8,7],[0,0,0],[6,5,4],[3,2,1]])\n",
    "\n",
    "with tf.Session() as sess:\n",
    "    init.run()\n",
    "    Y0_val, Y1_val = sess.run([Y0, Y1], feed_dict = {X0 : X0_batch, X1 : X1_batch})\n",
    "    \n",
    "print(Y0_val)\n",
    "print(Y1_val)"
   ]
  },
  {
   "cell_type": "code",
   "execution_count": 25,
   "metadata": {},
   "outputs": [
    {
     "name": "stdout",
     "output_type": "stream",
     "text": [
      "[[[-0.45652324 -0.68064123  0.40938237  0.63104504 -0.45732826]\n",
      "  [-0.9428799  -0.9998869   0.94055814  0.9999985  -0.9999997 ]]\n",
      "\n",
      " [[-0.8001535  -0.9921827   0.7817797   0.9971032  -0.9964609 ]\n",
      "  [-0.637116    0.11300927  0.5798437   0.4310559  -0.6371699 ]]\n",
      "\n",
      " [[-0.93605185 -0.9998379   0.9308867   0.9999815  -0.99998295]\n",
      "  [-0.9165386  -0.9945604   0.896054    0.99987197 -0.9999751 ]]\n",
      "\n",
      " [[ 0.9927369  -0.9981933  -0.55543643  0.9989031  -0.9953323 ]\n",
      "  [-0.02746338 -0.73191994  0.7827872   0.9525682  -0.9781773 ]]]\n"
     ]
    }
   ],
   "source": [
    "reset_graph()\n",
    "\n",
    "n_steps = 2\n",
    "n_inputs = 3\n",
    "n_neurons = 5\n",
    "\n",
    "X = tf.placeholder(tf.float32, [None, n_steps, n_inputs]) #m x 2 x 3\n",
    "X_seqs = tf.unstack(tf.transpose(X, perm=[1,0,2])) #2 * (m x 3)\n",
    "\n",
    "basic_cell = tf.contrib.rnn.BasicRNNCell(num_units=n_neurons)\n",
    "output_seqs, states = tf.contrib.rnn.static_rnn(basic_cell, X_seqs, dtype=tf.float32) #2* (m x 5)\n",
    "output = tf.transpose(tf.stack(output_seqs), perm=[1, 0, 2]) #m x 2 x 5\n",
    "\n",
    "init= tf.global_variables_initializer()\n",
    "\n",
    "X_batch = np.array([\n",
    "        [[0,1,2],[9,8,7]],\n",
    "        [[3,4,5],[0,0,0]],\n",
    "        [[6,7,8],[6,5,4]],\n",
    "        [[9,0,1],[3,2,1]]\n",
    "    ])\n",
    "\n",
    "with tf.Session() as sess:\n",
    "    init.run()\n",
    "    output_val = sess.run(output, feed_dict = {X : X_batch})\n",
    "    \n",
    "print(output_val)"
   ]
  },
  {
   "cell_type": "code",
   "execution_count": 28,
   "metadata": {},
   "outputs": [
    {
     "name": "stdout",
     "output_type": "stream",
     "text": [
      "[[[-0.85115266  0.87358344  0.5802911   0.8954789  -0.0557505 ]\n",
      "  [-0.999996    0.99999577  0.9981815   1.          0.37679607]]\n",
      "\n",
      " [[-0.9983293   0.9992038   0.98071456  0.999985    0.25192663]\n",
      "  [-0.7081804  -0.0772338  -0.85227895  0.5845349  -0.78780943]]\n",
      "\n",
      " [[-0.9999827   0.99999535  0.9992863   1.          0.5159072 ]\n",
      "  [-0.9993956   0.9984095   0.83422637  0.99999976 -0.47325212]]\n",
      "\n",
      " [[ 0.87888587  0.07356028  0.97216916  0.9998546  -0.7351168 ]\n",
      "  [-0.9134514   0.3600957   0.7624866   0.99817705  0.80142   ]]]\n"
     ]
    }
   ],
   "source": [
    "reset_graph()\n",
    "\n",
    "n_steps = 2\n",
    "n_inputs = 3\n",
    "n_neurons = 5\n",
    "\n",
    "X = tf.placeholder(tf.float32, [None, n_steps, n_inputs]) #m x 2 x 3\n",
    "\n",
    "basic_cell = tf.contrib.rnn.BasicRNNCell(num_units=n_neurons)\n",
    "output, states = tf.nn.dynamic_rnn(basic_cell, X, dtype=tf.float32) #m x 2 x 5\n",
    "\n",
    "init= tf.global_variables_initializer()\n",
    "\n",
    "X_batch = np.array([\n",
    "        [[0,1,2],[9,8,7]],\n",
    "        [[3,4,5],[0,0,0]],\n",
    "        [[6,7,8],[6,5,4]],\n",
    "        [[9,0,1],[3,2,1]]\n",
    "    ])\n",
    "\n",
    "with tf.Session() as sess:\n",
    "    init.run()\n",
    "    output_val = sess.run(output, feed_dict = {X : X_batch})\n",
    "    \n",
    "print(output_val)"
   ]
  },
  {
   "cell_type": "code",
   "execution_count": 29,
   "metadata": {},
   "outputs": [
    {
     "name": "stdout",
     "output_type": "stream",
     "text": [
      "[[[-0.9123188   0.16516446  0.5548655  -0.39159346  0.20846416]\n",
      "  [-1.          0.956726    0.99831694  0.99970174  0.96518576]]\n",
      "\n",
      " [[-0.9998612   0.6702289   0.9723653   0.6631046   0.74457586]\n",
      "  [ 0.          0.          0.          0.          0.        ]]\n",
      "\n",
      " [[-0.99999976  0.8967997   0.9986295   0.9647514   0.93662   ]\n",
      "  [-0.9999526   0.9681953   0.96002865  0.98706263  0.85459226]]\n",
      "\n",
      " [[-0.96435434  0.99501586 -0.36150697  0.9983378   0.999497  ]\n",
      "  [-0.9613586   0.9568762   0.7132288   0.97729224 -0.0958299 ]]]\n"
     ]
    }
   ],
   "source": [
    "reset_graph()\n",
    "\n",
    "n_steps = 2\n",
    "n_inputs = 3\n",
    "n_neurons = 5\n",
    "\n",
    "X = tf.placeholder(tf.float32, [None, n_steps, n_inputs]) #m x 2 x 3\n",
    "seq_length = tf.placeholder(tf.int32, [None])\n",
    "\n",
    "basic_cell = tf.contrib.rnn.BasicRNNCell(num_units=n_neurons)\n",
    "output, states = tf.nn.dynamic_rnn(basic_cell, X, dtype=tf.float32, sequence_length=seq_length) #m x 2 x 5\n",
    "\n",
    "init= tf.global_variables_initializer()\n",
    "\n",
    "X_batch = np.array([\n",
    "        [[0,1,2],[9,8,7]],\n",
    "        [[3,4,5],[0,0,0]],\n",
    "        [[6,7,8],[6,5,4]],\n",
    "        [[9,0,1],[3,2,1]]\n",
    "    ])\n",
    "\n",
    "seq_length_batch = np.array([2, 1, 2, 2])\n",
    "\n",
    "with tf.Session() as sess:\n",
    "    init.run()\n",
    "    output_val = sess.run(output, feed_dict = {X : X_batch, seq_length : seq_length_batch})\n",
    "    \n",
    "print(output_val)"
   ]
  },
  {
   "cell_type": "code",
   "execution_count": 43,
   "metadata": {},
   "outputs": [],
   "source": [
    "reset_graph()\n",
    "\n",
    "n_steps = 28\n",
    "n_inputs = 28\n",
    "n_neurons = 150\n",
    "n_outputs = 10\n",
    "\n",
    "learning_rate = 0.001\n",
    "\n",
    "X = tf.placeholder(tf.float32, [None, n_steps, n_inputs])\n",
    "y = tf.placeholder(tf.int32, [None])\n",
    "\n",
    "with tf.name_scope(\"network\"):\n",
    "    basic_cell = tf.contrib.rnn.BasicRNNCell(num_units=n_neurons)\n",
    "    output, states = tf.nn.dynamic_rnn(basic_cell, X, dtype=tf.float32)\n",
    "    logits = neuron_layer(states, n_outputs, \"logits\", activation = None, weights_regularizer = None)\n",
    "\n",
    "with tf.name_scope(\"loss\"):\n",
    "    xentropy = tf.nn.sparse_softmax_cross_entropy_with_logits(labels=y, logits=logits)\n",
    "    loss = tf.reduce_mean(xentropy)\n",
    "    \n",
    "with tf.name_scope(\"trainer\"):\n",
    "    optimizer = tf.train.AdamOptimizer(learning_rate=learning_rate)\n",
    "    training_op = optimizer.minimize(loss)\n",
    "\n",
    "with tf.name_scope(\"performance_measures\"):\n",
    "    correct = tf.nn.in_top_k(logits, y, 1)\n",
    "    accuracy = tf.reduce_mean(tf.cast(correct, tf.float32))\n",
    "\n",
    "init= tf.global_variables_initializer()\n",
    "\n",
    "saver = tf.train.Saver()\n",
    "\n",
    "acc_train_summary = tf.summary.scalar('Train_accuracy', accuracy)\n",
    "acc_test_summary = tf.summary.scalar('Test_accuracy', accuracy)"
   ]
  },
  {
   "cell_type": "code",
   "execution_count": 39,
   "metadata": {},
   "outputs": [
    {
     "name": "stdout",
     "output_type": "stream",
     "text": [
      "Extracting /tmp/data/train-images-idx3-ubyte.gz\n",
      "Extracting /tmp/data/train-labels-idx1-ubyte.gz\n",
      "Extracting /tmp/data/t10k-images-idx3-ubyte.gz\n",
      "Extracting /tmp/data/t10k-labels-idx1-ubyte.gz\n"
     ]
    }
   ],
   "source": [
    "from tensorflow.examples.tutorials.mnist import input_data\n",
    "\n",
    "mnist = input_data.read_data_sets(\"/tmp/data/\")\n",
    "X_test = mnist.test.images.reshape((-1, n_steps, n_inputs))\n",
    "y_test = mnist.test.labels"
   ]
  },
  {
   "cell_type": "code",
   "execution_count": 44,
   "metadata": {},
   "outputs": [
    {
     "name": "stdout",
     "output_type": "stream",
     "text": [
      "Alive 0\n",
      "Alive 1\n",
      "Alive 2\n",
      "Alive 3\n",
      "Alive 4\n",
      "Alive 5\n",
      "Alive 6\n",
      "Alive 7\n",
      "Alive 8\n",
      "Alive 9\n"
     ]
    }
   ],
   "source": [
    "now = dt.utcnow().strftime(\"%Y%m%d%H%M%S\")\n",
    "root_logdir = \"./CH14/logs\"\n",
    "logdir = \"{}/run-{}/\".format(root_logdir, now)\n",
    "file_writer = tf.summary.FileWriter(logdir, tf.get_default_graph())\n",
    "\n",
    "n_epochs = 10\n",
    "batch_size = 150\n",
    "\n",
    "with tf.Session() as sess:\n",
    "    init.run()\n",
    "    for epoch in range(n_epochs):\n",
    "        print(\"Alive {}\".format(epoch))\n",
    "        for iteration in range(mnist.train.num_examples // batch_size):\n",
    "            X_batch, y_batch = mnist.train.next_batch(batch_size)\n",
    "            X_batch = X_batch.reshape((-1, n_steps, n_inputs))\n",
    "            sess.run(training_op, feed_dict={X: X_batch, y: y_batch})\n",
    "            if iteration % 10 == 0 :\n",
    "                acc_train_str = acc_train_summary.eval(feed_dict = {X : X_batch, y : y_batch})\n",
    "                acc_test_str = acc_test_summary.eval(feed_dict = {X: X_test, y: y_test})\n",
    "                step = epoch * (mnist.train.num_examples // batch_size) + iteration\n",
    "                file_writer.add_summary(acc_train_str, step)\n",
    "                file_writer.add_summary(acc_test_str, step)\n",
    "    save_path = saver.save(sess,\"./CH14/models/mnist_rnn_final.ckpt\")"
   ]
  },
  {
   "cell_type": "markdown",
   "metadata": {},
   "source": [
    "# Time Series"
   ]
  },
  {
   "cell_type": "markdown",
   "metadata": {},
   "source": [
    "## Multi-Layer RNN"
   ]
  },
  {
   "cell_type": "code",
   "execution_count": 2,
   "metadata": {},
   "outputs": [],
   "source": [
    "t_min, t_max = 0, 30\n",
    "resolution = 0.1\n",
    "\n",
    "def time_series(t):\n",
    "    return t * np.sin(t) / 3 + 2 * np.sin(t*5)\n",
    "\n",
    "def next_batch(batch_size, n_steps):\n",
    "    t0 = np.random.rand(batch_size, 1) * (t_max - t_min - n_steps * resolution)\n",
    "    Ts = t0 + np.arange(0., n_steps + 1) * resolution\n",
    "    ys = time_series(Ts)\n",
    "    return ys[:, :-1].reshape(-1, n_steps, 1), ys[:, 1:].reshape(-1, n_steps, 1)"
   ]
  },
  {
   "cell_type": "code",
   "execution_count": 32,
   "metadata": {},
   "outputs": [],
   "source": [
    "reset_graph()\n",
    "\n",
    "n_steps = 40\n",
    "n_inputs = 1\n",
    "n_neurons = 100\n",
    "n_layers = 3\n",
    "n_outputs = 1\n",
    "\n",
    "learning_rate = 0.001\n",
    "\n",
    "X = tf.placeholder(tf.float32, [None, n_steps, n_inputs])\n",
    "y = tf.placeholder(tf.float32, [None, n_steps, n_inputs])\n",
    "\n",
    "with tf.name_scope(\"network\"):\n",
    "    basic_layer = [tf.contrib.rnn.BasicRNNCell(num_units=n_neurons, activation=tf.nn.relu) for layer in range(n_layers)]\n",
    "    ml_cell = tf.contrib.rnn.MultiRNNCell(basic_layer)\n",
    "    rnn_output, states = tf.nn.dynamic_rnn(ml_cell, X, dtype=tf.float32)\n",
    "    stacked_rnn_output = tf.reshape(rnn_output, [-1, n_neurons])\n",
    "    stacked_output = neuron_layer(stacked_rnn_output, n_outputs, \"FC\", activation = None, weights_regularizer = None)\n",
    "    outputs = tf.reshape(stacked_output, [-1, n_steps, n_outputs])\n",
    "\n",
    "with tf.name_scope(\"loss\"):\n",
    "    loss = tf.reduce_mean(tf.square(outputs - y))\n",
    "    \n",
    "with tf.name_scope(\"trainer\"):\n",
    "    optimizer = tf.train.AdamOptimizer(learning_rate=learning_rate)\n",
    "    training_op = optimizer.minimize(loss)\n",
    "\n",
    "init= tf.global_variables_initializer()\n",
    "\n",
    "saver = tf.train.Saver()\n",
    "\n",
    "MSE_summary = tf.summary.scalar('Train_MSE', loss)"
   ]
  },
  {
   "cell_type": "code",
   "execution_count": 33,
   "metadata": {},
   "outputs": [],
   "source": [
    "now = dt.utcnow().strftime(\"%Y%m%d%H%M%S\")\n",
    "root_logdir = \"./CH14/logs\"\n",
    "logdir = \"{}/run-{}/\".format(root_logdir, now)\n",
    "file_writer = tf.summary.FileWriter(logdir, tf.get_default_graph())\n",
    "\n",
    "n_iterations = 1500\n",
    "batch_size = 50\n",
    "\n",
    "with tf.Session() as sess:\n",
    "    init.run()\n",
    "    for iteration in range(n_iterations):\n",
    "        X_batch, y_batch = next_batch(batch_size, n_steps)\n",
    "        sess.run(training_op, feed_dict={X: X_batch, y: y_batch})\n",
    "        if iteration % 10 == 0 :\n",
    "            mse_train_str = MSE_summary.eval(feed_dict = {X : X_batch, y : y_batch})\n",
    "            file_writer.add_summary(mse_train_str, iteration)\n",
    "    save_path = saver.save(sess,\"./CH14/models/time_series_rnn_final.ckpt\")"
   ]
  },
  {
   "cell_type": "code",
   "execution_count": 35,
   "metadata": {},
   "outputs": [
    {
     "name": "stdout",
     "output_type": "stream",
     "text": [
      "INFO:tensorflow:Restoring parameters from ./CH14/models/time_series_rnn_final.ckpt\n"
     ]
    },
    {
     "data": {
      "image/png": "[encoded data removed]",
      "text/plain": [
       "<Figure size 432x288 with 1 Axes>"
      ]
     },
     "metadata": {
      "needs_background": "light"
     },
     "output_type": "display_data"
    }
   ],
   "source": [
    "n_sim = 120\n",
    "t_instance = np.linspace(12.2, 12.2 + resolution * (n_steps + n_sim + 1), n_steps + n_sim + 2)\n",
    "t_instance_1 = np.linspace(12.2, 12.2 + resolution * (n_steps + 1), n_steps + 1)\n",
    "t_instance_2 = np.linspace(12.2 + resolution * (n_steps + 1), 12.2 + resolution * (n_steps + n_sim + 1), n_sim + 1)\n",
    "\n",
    "with tf.Session() as sess:                          # not shown in the book\n",
    "    saver.restore(sess, \"./CH14/models/time_series_rnn_final.ckpt\")   # not shown\n",
    "    X_new = time_series(np.array(t_instance_1[:-1].reshape(-1, n_steps, n_inputs)))\n",
    "    y_pred = sess.run(outputs, feed_dict={X: X_new})\n",
    "    X_extend = np.copy(X_new)\n",
    "    y_pred_2 = np.empty([1, 0, 1])\n",
    "    y_pred_1 = np.copy(y_pred)\n",
    "    for i in range(n_sim):\n",
    "        X_extend[:,0:n_steps - 1,:] = X_extend[:,1:n_steps,:]\n",
    "        X_extend[:,n_steps - 1,:] = y_pred_1[:,n_steps-1,:]\n",
    "        y_pred_1 = sess.run(outputs, feed_dict={X: X_extend})\n",
    "        y_pred_2 = np.append(y_pred_2, y_pred_1[:,n_steps-1:,:],axis = 1)\n",
    "\n",
    "plt.title(\"Testing the model\", fontsize=14)\n",
    "plt.plot(t_instance[1:-1], time_series(t_instance[1:-1]), \"bo\", markersize=10, label=\"instance\")\n",
    "plt.plot(t_instance_1[1:], y_pred[0,:,0], \"r.\", markersize=10, label=\"predicted\")\n",
    "plt.plot(t_instance_2[1:], y_pred_2[0,:,0], \"y.\", markersize=10, label=\"generated\")\n",
    "plt.legend(loc=\"upper left\")\n",
    "plt.xlabel(\"Time\")\n",
    "\n",
    "plt.show()"
   ]
  },
  {
   "cell_type": "markdown",
   "metadata": {},
   "source": [
    "## Creative RNN"
   ]
  },
  {
   "cell_type": "code",
   "execution_count": 26,
   "metadata": {},
   "outputs": [],
   "source": [
    "reset_graph()\n",
    "\n",
    "n_steps = 40\n",
    "n_inputs = 1\n",
    "n_neurons = 100\n",
    "n_outputs = 1\n",
    "\n",
    "learning_rate = 0.001\n",
    "\n",
    "X = tf.placeholder(tf.float32, [None, n_steps, n_inputs])\n",
    "y = tf.placeholder(tf.float32, [None, n_steps, n_inputs])\n",
    "\n",
    "with tf.name_scope(\"network\"):\n",
    "    basic_layer = tf.contrib.rnn.BasicRNNCell(num_units=n_neurons, activation=tf.nn.relu)\n",
    "    rnn_output, states = tf.nn.dynamic_rnn(basic_layer, X, dtype=tf.float32)\n",
    "    stacked_rnn_output = tf.reshape(rnn_output, [-1, n_neurons])\n",
    "    stacked_output = tf.layers.dense(stacked_rnn_output, n_outputs)\n",
    "    outputs = tf.reshape(stacked_output, [-1, n_steps, n_outputs])\n",
    "\n",
    "with tf.name_scope(\"loss\"):\n",
    "    loss = tf.reduce_mean(tf.square(outputs - y))\n",
    "    \n",
    "with tf.name_scope(\"trainer\"):\n",
    "    optimizer = tf.train.AdamOptimizer(learning_rate=learning_rate)\n",
    "    training_op = optimizer.minimize(loss)\n",
    "\n",
    "\n",
    "init= tf.global_variables_initializer()\n",
    "\n",
    "saver = tf.train.Saver()\n",
    "\n",
    "MSE_summary = tf.summary.scalar('Train_MSE', loss)"
   ]
  },
  {
   "cell_type": "code",
   "execution_count": 27,
   "metadata": {},
   "outputs": [],
   "source": [
    "now = dt.utcnow().strftime(\"%Y%m%d%H%M%S\")\n",
    "root_logdir = \"./CH14/logs\"\n",
    "logdir = \"{}/run-{}/\".format(root_logdir, now)\n",
    "file_writer = tf.summary.FileWriter(logdir, tf.get_default_graph())\n",
    "\n",
    "t_instance = np.linspace(12.2, 12.2 + resolution * (n_steps + 1), n_steps + 1)\n",
    "\n",
    "n_iterations = 1500\n",
    "batch_size = 50\n",
    "\n",
    "with tf.Session() as sess:\n",
    "    init.run()\n",
    "    for iteration in range(n_iterations):\n",
    "        X_batch, y_batch = next_batch(batch_size, n_steps)\n",
    "        sess.run(training_op, feed_dict={X: X_batch, y: y_batch})\n",
    "        if iteration % 10 == 0 :\n",
    "            mse_train_str = MSE_summary.eval(feed_dict = {X : X_batch, y : y_batch})\n",
    "            file_writer.add_summary(mse_train_str, iteration)\n",
    "    save_path = saver.save(sess,\"./CH14/models/creative_time_series_rnn_final.ckpt\")"
   ]
  },
  {
   "cell_type": "code",
   "execution_count": 28,
   "metadata": {},
   "outputs": [
    {
     "name": "stdout",
     "output_type": "stream",
     "text": [
      "INFO:tensorflow:Restoring parameters from ./CH14/models/creative_time_series_rnn_final.ckpt\n"
     ]
    }
   ],
   "source": [
    "with tf.Session() as sess:                        # not shown in the book\n",
    "    saver.restore(sess, \"./CH14/models/creative_time_series_rnn_final.ckpt\") # not shown\n",
    "\n",
    "    sequence = [0.] * n_steps\n",
    "    for iteration in range(300):\n",
    "        X_batch = np.array(sequence[-n_steps:]).reshape(1, n_steps, 1)\n",
    "        y_pred = sess.run(outputs, feed_dict={X: X_batch})\n",
    "        sequence.append(y_pred[0, -1, 0])"
   ]
  },
  {
   "cell_type": "code",
   "execution_count": 29,
   "metadata": {},
   "outputs": [
    {
     "data": {
      "image/png": "[encoded data removed]",
      "text/plain": [
       "<Figure size 576x288 with 1 Axes>"
      ]
     },
     "metadata": {
      "needs_background": "light"
     },
     "output_type": "display_data"
    }
   ],
   "source": [
    "t = np.linspace(t_min, t_max, int((t_max - t_min) / resolution))\n",
    "plt.figure(figsize=(8,4))\n",
    "plt.plot(np.arange(len(sequence)), sequence, \"b-\")\n",
    "plt.plot(t[:n_steps], sequence[:n_steps], \"b-\", linewidth=3)\n",
    "plt.xlabel(\"Time\")\n",
    "plt.ylabel(\"Value\")\n",
    "plt.show()"
   ]
  },
  {
   "cell_type": "code",
   "execution_count": 31,
   "metadata": {},
   "outputs": [
    {
     "name": "stdout",
     "output_type": "stream",
     "text": [
      "INFO:tensorflow:Restoring parameters from ./CH14/models/creative_time_series_rnn_final.ckpt\n"
     ]
    },
    {
     "data": {
      "image/png": "[encoded data removed]",
      "text/plain": [
       "<Figure size 432x288 with 1 Axes>"
      ]
     },
     "metadata": {
      "needs_background": "light"
     },
     "output_type": "display_data"
    }
   ],
   "source": [
    "n_sim = 120\n",
    "t_instance = np.linspace(12.2, 12.2 + resolution * (n_steps + n_sim + 1), n_steps + n_sim + 2)\n",
    "t_instance_1 = np.linspace(12.2, 12.2 + resolution * (n_steps + 1), n_steps + 1)\n",
    "t_instance_2 = np.linspace(12.2 + resolution * (n_steps + 1), 12.2 + resolution * (n_steps + n_sim + 1), n_sim + 1)\n",
    "\n",
    "with tf.Session() as sess:                          # not shown in the book\n",
    "    saver.restore(sess, \"./CH14/models/creative_time_series_rnn_final.ckpt\")   # not shown\n",
    "    X_new = time_series(np.array(t_instance_1[:-1].reshape(-1, n_steps, n_inputs)))\n",
    "    y_pred = sess.run(outputs, feed_dict={X: X_new})\n",
    "    X_extend = np.copy(X_new)\n",
    "    y_pred_2 = np.empty([1, 0, 1])\n",
    "    y_pred_1 = np.copy(y_pred)\n",
    "    for i in range(n_sim):\n",
    "        X_extend[:,0:n_steps - 1,:] = X_extend[:,1:n_steps,:]\n",
    "        X_extend[:,n_steps - 1,:] = y_pred_1[:,n_steps-1,:]\n",
    "        y_pred_1 = sess.run(outputs, feed_dict={X: X_extend})\n",
    "        y_pred_2 = np.append(y_pred_2, y_pred_1[:,n_steps-1:,:],axis = 1)\n",
    "\n",
    "plt.title(\"Testing the model\", fontsize=14)\n",
    "plt.plot(t_instance[1:-1], time_series(t_instance[1:-1]), \"bo\", markersize=10, label=\"instance\")\n",
    "plt.plot(t_instance_1[1:], y_pred[0,:,0], \"r.\", markersize=10, label=\"predicted\")\n",
    "plt.plot(t_instance_2[1:], y_pred_2[0,:,0], \"y.\", markersize=10, label=\"generated\")\n",
    "plt.legend(loc=\"upper left\")\n",
    "plt.xlabel(\"Time\")\n",
    "\n",
    "plt.show()"
   ]
  },
  {
   "cell_type": "markdown",
   "metadata": {},
   "source": [
    "# LSTM"
   ]
  },
  {
   "cell_type": "code",
   "execution_count": 18,
   "metadata": {},
   "outputs": [],
   "source": [
    "reset_graph()\n",
    "\n",
    "n_steps = 40\n",
    "n_inputs = 1\n",
    "n_neurons = 100\n",
    "n_outputs = 1\n",
    "\n",
    "learning_rate = 0.001\n",
    "\n",
    "X = tf.placeholder(tf.float32, [None, n_steps, n_inputs])\n",
    "y = tf.placeholder(tf.float32, [None, n_steps, n_inputs])\n",
    "\n",
    "with tf.name_scope(\"network\"):\n",
    "    basic_layer = tf.contrib.rnn.BasicLSTMCell(num_units=n_neurons)\n",
    "    rnn_output, states = tf.nn.dynamic_rnn(basic_layer, X, dtype=tf.float32)\n",
    "    stacked_rnn_output = tf.reshape(rnn_output, [-1, n_neurons])\n",
    "    stacked_output = tf.layers.dense(stacked_rnn_output, n_outputs)\n",
    "    outputs = tf.reshape(stacked_output, [-1, n_steps, n_outputs])\n",
    "\n",
    "with tf.name_scope(\"loss\"):\n",
    "    loss = tf.reduce_mean(tf.square(outputs - y))\n",
    "    \n",
    "with tf.name_scope(\"trainer\"):\n",
    "    optimizer = tf.train.AdamOptimizer(learning_rate=learning_rate)\n",
    "    training_op = optimizer.minimize(loss)\n",
    "\n",
    "\n",
    "init= tf.global_variables_initializer()\n",
    "\n",
    "saver = tf.train.Saver()\n",
    "\n",
    "MSE_summary = tf.summary.scalar('Train_MSE', loss)"
   ]
  },
  {
   "cell_type": "code",
   "execution_count": 19,
   "metadata": {},
   "outputs": [],
   "source": [
    "now = dt.utcnow().strftime(\"%Y%m%d%H%M%S\")\n",
    "root_logdir = \"./CH14/logs\"\n",
    "logdir = \"{}/run-{}/\".format(root_logdir, now)\n",
    "file_writer = tf.summary.FileWriter(logdir, tf.get_default_graph())\n",
    "\n",
    "t_instance = np.linspace(12.2, 12.2 + resolution * (n_steps + 1), n_steps + 1)\n",
    "\n",
    "n_iterations = 1500\n",
    "batch_size = 50\n",
    "\n",
    "with tf.Session() as sess:\n",
    "    init.run()\n",
    "    for iteration in range(n_iterations):\n",
    "        X_batch, y_batch = next_batch(batch_size, n_steps)\n",
    "        sess.run(training_op, feed_dict={X: X_batch, y: y_batch})\n",
    "        if iteration % 10 == 0 :\n",
    "            mse_train_str = MSE_summary.eval(feed_dict = {X : X_batch, y : y_batch})\n",
    "            file_writer.add_summary(mse_train_str, iteration)\n",
    "    save_path = saver.save(sess,\"./CH14/models/time_series_LSTM_final.ckpt\")"
   ]
  },
  {
   "cell_type": "code",
   "execution_count": 25,
   "metadata": {},
   "outputs": [
    {
     "name": "stdout",
     "output_type": "stream",
     "text": [
      "INFO:tensorflow:Restoring parameters from ./CH14/models/time_series_LSTM_final.ckpt\n"
     ]
    },
    {
     "data": {
      "image/png": "[encoded data removed]",
      "text/plain": [
       "<Figure size 432x288 with 1 Axes>"
      ]
     },
     "metadata": {
      "needs_background": "light"
     },
     "output_type": "display_data"
    }
   ],
   "source": [
    "n_sim = 120\n",
    "t_instance = np.linspace(12.2, 12.2 + resolution * (n_steps + n_sim + 1), n_steps + n_sim + 2)\n",
    "t_instance_1 = np.linspace(12.2, 12.2 + resolution * (n_steps + 1), n_steps + 1)\n",
    "t_instance_2 = np.linspace(12.2 + resolution * (n_steps + 1), 12.2 + resolution * (n_steps + n_sim + 1), n_sim + 1)\n",
    "\n",
    "with tf.Session() as sess:                          # not shown in the book\n",
    "    saver.restore(sess, \"./CH14/models/time_series_LSTM_final.ckpt\")   # not shown\n",
    "    X_new = time_series(np.array(t_instance_1[:-1].reshape(-1, n_steps, n_inputs)))\n",
    "    y_pred = sess.run(outputs, feed_dict={X: X_new})\n",
    "    X_extend = np.copy(X_new)\n",
    "    y_pred_2 = np.empty([1, 0, 1])\n",
    "    y_pred_1 = np.copy(y_pred)\n",
    "    for i in range(n_sim):\n",
    "        X_extend[:,0:n_steps - 1,:] = X_extend[:,1:n_steps,:]\n",
    "        X_extend[:,n_steps - 1,:] = y_pred_1[:,n_steps-1,:]\n",
    "        y_pred_1 = sess.run(outputs, feed_dict={X: X_extend})\n",
    "        y_pred_2 = np.append(y_pred_2, y_pred_1[:,n_steps-1:,:],axis = 1)\n",
    "\n",
    "plt.title(\"Testing the model\", fontsize=14)\n",
    "plt.plot(t_instance[1:-1], time_series(t_instance[1:-1]), \"bo\", markersize=10, label=\"instance\")\n",
    "plt.plot(t_instance_1[1:], y_pred[0,:,0], \"r.\", markersize=10, label=\"predicted\")\n",
    "plt.plot(t_instance_2[1:], y_pred_2[0,:,0], \"y.\", markersize=10, label=\"generated\")\n",
    "plt.legend(loc=\"upper left\")\n",
    "plt.xlabel(\"Time\")\n",
    "\n",
    "plt.show()"
   ]
  },
  {
   "cell_type": "code",
   "execution_count": null,
   "metadata": {},
   "outputs": [],
   "source": []
  }
 ],
 "metadata": {
  "kernelspec": {
   "display_name": "Python 3",
   "language": "python",
   "name": "python3"
  },
  "language_info": {
   "codemirror_mode": {
    "name": "ipython",
    "version": 3
   },
   "file_extension": ".py",
   "mimetype": "text/x-python",
   "name": "python",
   "nbconvert_exporter": "python",
   "pygments_lexer": "ipython3",
   "version": "3.6.6"
  }
 },
 "nbformat": 4,
 "nbformat_minor": 2
}
